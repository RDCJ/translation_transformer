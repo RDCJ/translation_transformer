{
 "cells": [
  {
   "cell_type": "code",
   "execution_count": 1,
   "metadata": {},
   "outputs": [],
   "source": [
    "from tokenizer import Tokenizer"
   ]
  },
  {
   "cell_type": "code",
   "execution_count": 2,
   "metadata": {},
   "outputs": [],
   "source": [
    "data_dir = \"/data1/YSY/translation_transformer/data/small_data/train\"\n",
    "tker =  Tokenizer(\"/data1/YSY/translation_transformer/data/small_data/train\")"
   ]
  }
 ],
 "metadata": {
  "interpreter": {
   "hash": "2b19777f4f7ae8aca8b19a42c94c52f445848750b057f5a45c2360278b099a2d"
  },
  "kernelspec": {
   "display_name": "Python 3.7.11 ('PDVC')",
   "language": "python",
   "name": "python3"
  },
  "language_info": {
   "codemirror_mode": {
    "name": "ipython",
    "version": 3
   },
   "file_extension": ".py",
   "mimetype": "text/x-python",
   "name": "python",
   "nbconvert_exporter": "python",
   "pygments_lexer": "ipython3",
   "version": "3.7.11"
  },
  "orig_nbformat": 4
 },
 "nbformat": 4,
 "nbformat_minor": 2
}
